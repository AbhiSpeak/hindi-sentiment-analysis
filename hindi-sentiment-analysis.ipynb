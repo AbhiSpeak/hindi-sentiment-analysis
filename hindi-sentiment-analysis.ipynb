{
 "cells": [
  {
   "cell_type": "code",
   "execution_count": 1,
   "metadata": {},
   "outputs": [],
   "source": [
    "import numpy as np\n",
    "import pandas as pd\n",
    "import matplotlib.pyplot as plt\n",
    "import nltk\n",
    "import os\n",
    "import pickle\n",
    "from wordcloud import WordCloud\n",
    "\n",
    "import warnings\n",
    "warnings.filterwarnings('ignore')"
   ]
  },
  {
   "cell_type": "code",
   "execution_count": 2,
   "metadata": {},
   "outputs": [],
   "source": [
    "text=[]\n",
    "cat=[]"
   ]
  },
  {
   "cell_type": "code",
   "execution_count": 3,
   "metadata": {},
   "outputs": [],
   "source": [
    "angry=[]\n",
    "base_path=\"D:/Projects/Data/angry/\"\n",
    "for i in range(130):\n",
    "  filename=str(i)+'.txt'\n",
    "  path_to_file=os.path.join(base_path,filename)\n",
    "  fd=pd.read_csv(path_to_file)\n",
    "  angry.append(list(fd.columns))\n",
    "\n",
    "for item in angry:\n",
    "  text.append(item[0])\n",
    "  cat.append(0)"
   ]
  },
  {
   "cell_type": "code",
   "execution_count": 4,
   "metadata": {},
   "outputs": [],
   "source": [
    "happy=[]\n",
    "base_path=\"D:/Projects/Data/happy/\"\n",
    "for i in range(151):\n",
    "  filename=str(i)+'.txt'\n",
    "  path_to_file=os.path.join(base_path,filename)\n",
    "  fd=pd.read_csv(path_to_file)\n",
    "  happy.append(list(fd.columns))\n",
    "\n",
    "for item in happy:\n",
    "  text.append(item[0])\n",
    "  cat.append(1)"
   ]
  },
  {
   "cell_type": "code",
   "execution_count": 5,
   "metadata": {},
   "outputs": [],
   "source": [
    "neutral=[]\n",
    "base_path=\"D:/Projects/Data/neutral/\"\n",
    "for i in range(128):\n",
    "  filename=str(i)+'.txt'\n",
    "  path_to_file=os.path.join(base_path,filename)\n",
    "  fd=pd.read_csv(path_to_file)\n",
    "  neutral.append(list(fd.columns))\n",
    "\n",
    "for item in neutral:\n",
    "  text.append(item[0])\n",
    "  cat.append(2)"
   ]
  },
  {
   "cell_type": "code",
   "execution_count": 6,
   "metadata": {},
   "outputs": [],
   "source": [
    "sad=[]\n",
    "base_path=\"D:/Projects/Data/sad/\"\n",
    "for i in range(104):\n",
    "  filename=str(i)+'.txt'\n",
    "  path_to_file=os.path.join(base_path,filename)\n",
    "  fd=pd.read_csv(path_to_file)\n",
    "  sad.append(list(fd.columns))\n",
    "\n",
    "for item in sad:\n",
    "  text.append(item[0])\n",
    "  cat.append(3)"
   ]
  },
  {
   "cell_type": "code",
   "execution_count": 7,
   "metadata": {},
   "outputs": [
    {
     "name": "stdout",
     "output_type": "stream",
     "text": [
      "513\n",
      "513\n"
     ]
    }
   ],
   "source": [
    "print(len(text))\n",
    "print(len(cat))"
   ]
  },
  {
   "cell_type": "code",
   "execution_count": 8,
   "metadata": {},
   "outputs": [
    {
     "data": {
      "text/html": [
       "<div>\n",
       "<style scoped>\n",
       "    .dataframe tbody tr th:only-of-type {\n",
       "        vertical-align: middle;\n",
       "    }\n",
       "\n",
       "    .dataframe tbody tr th {\n",
       "        vertical-align: top;\n",
       "    }\n",
       "\n",
       "    .dataframe thead th {\n",
       "        text-align: right;\n",
       "    }\n",
       "</style>\n",
       "<table border=\"1\" class=\"dataframe\">\n",
       "  <thead>\n",
       "    <tr style=\"text-align: right;\">\n",
       "      <th></th>\n",
       "      <th>Text</th>\n",
       "      <th>Class</th>\n",
       "    </tr>\n",
       "  </thead>\n",
       "  <tbody>\n",
       "    <tr>\n",
       "      <th>0</th>\n",
       "      <td>मेरे ट्रैन का बुकिंग फेल हो रहा है बार बार</td>\n",
       "      <td>0</td>\n",
       "    </tr>\n",
       "    <tr>\n",
       "      <th>1</th>\n",
       "      <td>मेरे फ्लाइट  का बुकिंग फेल हो रहा है बार बार</td>\n",
       "      <td>0</td>\n",
       "    </tr>\n",
       "    <tr>\n",
       "      <th>2</th>\n",
       "      <td>बहुत ही घटिया एप्प है तुम्हारा</td>\n",
       "      <td>0</td>\n",
       "    </tr>\n",
       "    <tr>\n",
       "      <th>3</th>\n",
       "      <td>मेरी कैब क्यों नहीं आ रही है</td>\n",
       "      <td>0</td>\n",
       "    </tr>\n",
       "    <tr>\n",
       "      <th>4</th>\n",
       "      <td>बहुत ही बकवास वेबसाइट है तुम्हारा भाई</td>\n",
       "      <td>0</td>\n",
       "    </tr>\n",
       "  </tbody>\n",
       "</table>\n",
       "</div>"
      ],
      "text/plain": [
       "                                            Text  Class\n",
       "0    मेरे ट्रैन का बुकिंग फेल हो रहा है बार बार       0\n",
       "1  मेरे फ्लाइट  का बुकिंग फेल हो रहा है बार बार       0\n",
       "2                बहुत ही घटिया एप्प है तुम्हारा       0\n",
       "3                  मेरी कैब क्यों नहीं आ रही है       0\n",
       "4         बहुत ही बकवास वेबसाइट है तुम्हारा भाई       0"
      ]
     },
     "execution_count": 8,
     "metadata": {},
     "output_type": "execute_result"
    }
   ],
   "source": [
    "df=pd.DataFrame(data=[text,cat])\n",
    "df=df.T\n",
    "df.rename(columns={0:'Text',1:'Class'},inplace=True)\n",
    "df['Class']=df['Class'].astype(int)\n",
    "df.head()"
   ]
  },
  {
   "cell_type": "code",
   "execution_count": 9,
   "metadata": {},
   "outputs": [
    {
     "name": "stdout",
     "output_type": "stream",
     "text": [
      "<class 'pandas.core.frame.DataFrame'>\n",
      "RangeIndex: 513 entries, 0 to 512\n",
      "Data columns (total 2 columns):\n",
      " #   Column  Non-Null Count  Dtype \n",
      "---  ------  --------------  ----- \n",
      " 0   Text    513 non-null    object\n",
      " 1   Class   513 non-null    int32 \n",
      "dtypes: int32(1), object(1)\n",
      "memory usage: 6.1+ KB\n"
     ]
    }
   ],
   "source": [
    "df.info()"
   ]
  },
  {
   "cell_type": "code",
   "execution_count": null,
   "metadata": {},
   "outputs": [],
   "source": []
  }
 ],
 "metadata": {
  "kernelspec": {
   "display_name": "Python 3",
   "language": "python",
   "name": "python3"
  },
  "language_info": {
   "codemirror_mode": {
    "name": "ipython",
    "version": 3
   },
   "file_extension": ".py",
   "mimetype": "text/x-python",
   "name": "python",
   "nbconvert_exporter": "python",
   "pygments_lexer": "ipython3",
   "version": "3.11.2"
  },
  "orig_nbformat": 4
 },
 "nbformat": 4,
 "nbformat_minor": 2
}
